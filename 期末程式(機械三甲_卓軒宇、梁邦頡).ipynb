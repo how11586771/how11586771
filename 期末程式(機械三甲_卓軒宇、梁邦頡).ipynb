{
  "nbformat": 4,
  "nbformat_minor": 0,
  "metadata": {
    "colab": {
      "name": "期末程式(機械三甲 卓軒宇、梁邦頡).ipynb",
      "provenance": [],
      "collapsed_sections": []
    },
    "kernelspec": {
      "name": "python3",
      "display_name": "Python 3"
    },
    "language_info": {
      "name": "python"
    },
    "accelerator": "GPU"
  },
  "cells": [
    {
      "cell_type": "code",
      "metadata": {
        "id": "1sNBCT9yOYqc"
      },
      "source": [
        "import os\n",
        "import numpy as np\n",
        "import matplotlib.pyplot as plt\n",
        "import pandas as pd\n",
        "from keras.models import Sequential\n",
        "from keras.datasets import cifar10\n",
        "from keras.utils import np_utils\n",
        "from keras.layers import Activation, ZeroPadding2D\n",
        "from keras.layers import Dense, Dropout, Flatten, Conv2D, MaxPool2D\n",
        "from keras.models import load_model"
      ],
      "execution_count": null,
      "outputs": []
    },
    {
      "cell_type": "code",
      "metadata": {
        "id": "TECywZl9Oa13",
        "colab": {
          "base_uri": "https://localhost:8080/"
        },
        "outputId": "86d85839-fbbd-4d74-da38-36074263733f"
      },
      "source": [
        "(X_train, Y_train), (X_test, Y_test) = cifar10.load_data()\n",
        "label_dictionary={0:'airplane', 1:'automobile', 2:'bird', 3:'cat', 4:'deer', 5:'dog', 6:'frog', 7:'horse', 8:'ship', 9:'truck'}\n",
        "x_train = X_train.astype('float32')/255\n",
        "x_test = X_test.astype('float32')/255\n",
        "y_train = np_utils.to_categorical(Y_train)\n",
        "y_test = np_utils.to_categorical(Y_test)"
      ],
      "execution_count": null,
      "outputs": [
        {
          "output_type": "stream",
          "text": [
            "Downloading data from https://www.cs.toronto.edu/~kriz/cifar-10-python.tar.gz\n",
            "170500096/170498071 [==============================] - 4s 0us/step\n",
            "170508288/170498071 [==============================] - 4s 0us/step\n"
          ],
          "name": "stdout"
        }
      ]
    },
    {
      "cell_type": "code",
      "metadata": {
        "id": "j6mUNLh6OdOB"
      },
      "source": [
        "model = Sequential()\n",
        "model.add(Conv2D(filters=64, kernel_size=3, input_shape=(32, 32, 3), activation='relu', padding='same'))\n",
        "model.add(Dropout(0.25))\n",
        "model.add(MaxPool2D(pool_size=(2,2)))\n",
        "model.add(Conv2D(filters=128, kernel_size=3, activation='relu', padding='same'))\n",
        "model.add(Dropout(0.25))\n",
        "model.add(MaxPool2D(pool_size=(2,2)))\n",
        "model.add(Conv2D(filters=256, kernel_size=3, activation='relu', padding='same'))\n",
        "model.add(Dropout(0.25))\n",
        "model.add(MaxPool2D(pool_size=(2,2)))\n",
        "model.add(Conv2D(filters=512, kernel_size=3, activation='relu', padding='same'))\n",
        "model.add(Dropout(0.25))\n",
        "model.add(MaxPool2D(pool_size=(2,2)))\n",
        "\n",
        "\n",
        "model.add(Flatten())\n",
        "model.add(Dropout(0.5))\n",
        "model.add(Dense(1024, activation='relu'))\n",
        "model.add(Dropout(0.25))\n",
        "model.add(Dense(units=10, activation='softmax'))"
      ],
      "execution_count": null,
      "outputs": []
    },
    {
      "cell_type": "code",
      "metadata": {
        "id": "gKvl315OOebD",
        "colab": {
          "base_uri": "https://localhost:8080/"
        },
        "outputId": "5254b4c2-1c8a-46a4-aad2-14b5bc67f010"
      },
      "source": [
        "print(model.summary())"
      ],
      "execution_count": null,
      "outputs": [
        {
          "output_type": "stream",
          "text": [
            "Model: \"sequential\"\n",
            "_________________________________________________________________\n",
            "Layer (type)                 Output Shape              Param #   \n",
            "=================================================================\n",
            "conv2d (Conv2D)              (None, 32, 32, 64)        1792      \n",
            "_________________________________________________________________\n",
            "dropout (Dropout)            (None, 32, 32, 64)        0         \n",
            "_________________________________________________________________\n",
            "max_pooling2d (MaxPooling2D) (None, 16, 16, 64)        0         \n",
            "_________________________________________________________________\n",
            "conv2d_1 (Conv2D)            (None, 16, 16, 128)       73856     \n",
            "_________________________________________________________________\n",
            "dropout_1 (Dropout)          (None, 16, 16, 128)       0         \n",
            "_________________________________________________________________\n",
            "max_pooling2d_1 (MaxPooling2 (None, 8, 8, 128)         0         \n",
            "_________________________________________________________________\n",
            "conv2d_2 (Conv2D)            (None, 8, 8, 256)         295168    \n",
            "_________________________________________________________________\n",
            "dropout_2 (Dropout)          (None, 8, 8, 256)         0         \n",
            "_________________________________________________________________\n",
            "max_pooling2d_2 (MaxPooling2 (None, 4, 4, 256)         0         \n",
            "_________________________________________________________________\n",
            "conv2d_3 (Conv2D)            (None, 4, 4, 512)         1180160   \n",
            "_________________________________________________________________\n",
            "dropout_3 (Dropout)          (None, 4, 4, 512)         0         \n",
            "_________________________________________________________________\n",
            "max_pooling2d_3 (MaxPooling2 (None, 2, 2, 512)         0         \n",
            "_________________________________________________________________\n",
            "flatten (Flatten)            (None, 2048)              0         \n",
            "_________________________________________________________________\n",
            "dropout_4 (Dropout)          (None, 2048)              0         \n",
            "_________________________________________________________________\n",
            "dense (Dense)                (None, 1024)              2098176   \n",
            "_________________________________________________________________\n",
            "dropout_5 (Dropout)          (None, 1024)              0         \n",
            "_________________________________________________________________\n",
            "dense_1 (Dense)              (None, 10)                10250     \n",
            "=================================================================\n",
            "Total params: 3,659,402\n",
            "Trainable params: 3,659,402\n",
            "Non-trainable params: 0\n",
            "_________________________________________________________________\n",
            "None\n"
          ],
          "name": "stdout"
        }
      ]
    },
    {
      "cell_type": "code",
      "metadata": {
        "id": "ODb68sCBOkyo",
        "colab": {
          "base_uri": "https://localhost:8080/"
        },
        "outputId": "238ffc3b-e5e1-4e3c-fef9-abc74d1b13f0"
      },
      "source": [
        "model.compile(loss='categorical_crossentropy', optimizer='adam', metrics=['accuracy'])\n",
        "train_history = model.fit(x=x_train, y=y_train, validation_split=0.2, epochs=14, batch_size=150, verbose=1)\n",
        "Test = model.evaluate(x_test, y_test)\n",
        "print('Loss=',Test[0],'Accuracy',Test[1])"
      ],
      "execution_count": null,
      "outputs": [
        {
          "output_type": "stream",
          "text": [
            "Epoch 1/14\n",
            "267/267 [==============================] - 51s 27ms/step - loss: 1.9512 - accuracy: 0.2716 - val_loss: 1.5681 - val_accuracy: 0.4813\n",
            "Epoch 2/14\n",
            "267/267 [==============================] - 6s 22ms/step - loss: 1.2766 - accuracy: 0.5383 - val_loss: 1.2437 - val_accuracy: 0.5820\n",
            "Epoch 3/14\n",
            "267/267 [==============================] - 6s 22ms/step - loss: 1.0512 - accuracy: 0.6265 - val_loss: 1.0562 - val_accuracy: 0.6521\n",
            "Epoch 4/14\n",
            "267/267 [==============================] - 6s 22ms/step - loss: 0.9127 - accuracy: 0.6742 - val_loss: 1.0777 - val_accuracy: 0.6325\n",
            "Epoch 5/14\n",
            "267/267 [==============================] - 6s 23ms/step - loss: 0.8389 - accuracy: 0.7025 - val_loss: 0.9204 - val_accuracy: 0.6808\n",
            "Epoch 6/14\n",
            "267/267 [==============================] - 6s 22ms/step - loss: 0.7440 - accuracy: 0.7371 - val_loss: 0.8594 - val_accuracy: 0.7099\n",
            "Epoch 7/14\n",
            "267/267 [==============================] - 6s 23ms/step - loss: 0.7102 - accuracy: 0.7497 - val_loss: 0.8157 - val_accuracy: 0.7179\n",
            "Epoch 8/14\n",
            "267/267 [==============================] - 6s 23ms/step - loss: 0.6513 - accuracy: 0.7697 - val_loss: 0.7335 - val_accuracy: 0.7543\n",
            "Epoch 9/14\n",
            "267/267 [==============================] - 6s 22ms/step - loss: 0.6070 - accuracy: 0.7870 - val_loss: 0.7409 - val_accuracy: 0.7538\n",
            "Epoch 10/14\n",
            "267/267 [==============================] - 6s 22ms/step - loss: 0.5883 - accuracy: 0.7914 - val_loss: 0.7157 - val_accuracy: 0.7552\n",
            "Epoch 11/14\n",
            "267/267 [==============================] - 6s 23ms/step - loss: 0.5617 - accuracy: 0.7993 - val_loss: 0.6993 - val_accuracy: 0.7600\n",
            "Epoch 12/14\n",
            "267/267 [==============================] - 6s 23ms/step - loss: 0.5324 - accuracy: 0.8135 - val_loss: 0.7625 - val_accuracy: 0.7341\n",
            "Epoch 13/14\n",
            "267/267 [==============================] - 6s 23ms/step - loss: 0.5124 - accuracy: 0.8206 - val_loss: 0.6964 - val_accuracy: 0.7634\n",
            "Epoch 14/14\n",
            "267/267 [==============================] - 6s 22ms/step - loss: 0.4997 - accuracy: 0.8214 - val_loss: 0.6606 - val_accuracy: 0.7754\n",
            "313/313 [==============================] - 1s 4ms/step - loss: 0.6724 - accuracy: 0.7720\n",
            "Loss= 0.6724066734313965 Accuracy 0.7720000147819519\n"
          ],
          "name": "stdout"
        }
      ]
    },
    {
      "cell_type": "code",
      "metadata": {
        "id": "c3dultNItRcj",
        "colab": {
          "base_uri": "https://localhost:8080/",
          "height": 279
        },
        "outputId": "e01a2c37-793f-40d3-85e1-add7ff49c3c3"
      },
      "source": [
        "import matplotlib.pyplot as plt\n",
        "plt.plot(train_history.history['accuracy'])\n",
        "plt.plot(train_history.history['val_accuracy'])\n",
        "plt.ylabel('accuracy')\n",
        "plt.xlabel('epoch')\n",
        "plt.legend(['train','validation'], loc='lower right')\n",
        "plt.show()"
      ],
      "execution_count": null,
      "outputs": [
        {
          "output_type": "display_data",
          "data": {
            "image/png": "[encoded data removed]",
            "text/plain": [
              "<Figure size 432x288 with 1 Axes>"
            ]
          },
          "metadata": {
            "tags": [],
            "needs_background": "light"
          }
        }
      ]
    },
    {
      "cell_type": "code",
      "metadata": {
        "id": "NfHcb7glOoZj",
        "colab": {
          "base_uri": "https://localhost:8080/",
          "height": 279
        },
        "outputId": "db37fa8d-ada7-482c-eda4-015a9f959a51"
      },
      "source": [
        "import matplotlib.pyplot as plt\n",
        "plt.plot(train_history.history['loss'])\n",
        "plt.plot(train_history.history['val_loss'])\n",
        "plt.ylabel('loss')\n",
        "plt.xlabel('epoch')\n",
        "plt.legend(['train', 'validation'], loc='upper right')\n",
        "plt.show()\n"
      ],
      "execution_count": null,
      "outputs": [
        {
          "output_type": "display_data",
          "data": {
            "image/png": "[encoded data removed]",
            "text/plain": [
              "<Figure size 432x288 with 1 Axes>"
            ]
          },
          "metadata": {
            "tags": [],
            "needs_background": "light"
          }
        }
      ]
    },
    {
      "cell_type": "code",
      "metadata": {
        "id": "FQr9e7OlyY9k",
        "colab": {
          "base_uri": "https://localhost:8080/"
        },
        "outputId": "8a64821e-d056-409a-dbf0-56fa2276af2a"
      },
      "source": [
        "prediction_1=model.predict_classes(x_test, 100, verbose=1)\n",
        "prediction_1"
      ],
      "execution_count": null,
      "outputs": [
        {
          "output_type": "stream",
          "text": [
            "/usr/local/lib/python3.7/dist-packages/keras/engine/sequential.py:450: UserWarning: `model.predict_classes()` is deprecated and will be removed after 2021-01-01. Please use instead:* `np.argmax(model.predict(x), axis=-1)`,   if your model does multi-class classification   (e.g. if it uses a `softmax` last-layer activation).* `(model.predict(x) > 0.5).astype(\"int32\")`,   if your model does binary classification   (e.g. if it uses a `sigmoid` last-layer activation).\n",
            "  warnings.warn('`model.predict_classes()` is deprecated and '\n"
          ],
          "name": "stderr"
        },
        {
          "output_type": "stream",
          "text": [
            "100/100 [==============================] - 1s 4ms/step\n"
          ],
          "name": "stdout"
        },
        {
          "output_type": "execute_result",
          "data": {
            "text/plain": [
              "array([3, 8, 8, ..., 5, 1, 7])"
            ]
          },
          "metadata": {
            "tags": []
          },
          "execution_count": 8
        }
      ]
    },
    {
      "cell_type": "code",
      "metadata": {
        "id": "5ecMZ-3VCIWO",
        "colab": {
          "base_uri": "https://localhost:8080/",
          "height": 407
        },
        "outputId": "79b8bae4-a987-4607-d193-d954cc7b03cc"
      },
      "source": [
        "import matplotlib.pyplot as plt\n",
        "for i in range(3):\n",
        "  plt.figure(figsize=(1.5,1.5))\n",
        "  plt.imshow(X_test[i])\n",
        "  label= label_dictionary[int(Y_test[i])]\n",
        "  label_pict= label_dictionary[int(prediction_1[i])]\n",
        "  title= 'This image is ' + label + '\\n The prediction is ' + label_pict\n",
        "  plt.xticks([]);plt.yticks([])\n",
        "  plt.title(title)\n",
        "  plt.show"
      ],
      "execution_count": null,
      "outputs": [
        {
          "output_type": "display_data",
          "data": {
            "image/png": "[encoded data removed]",
            "text/plain": [
              "<Figure size 108x108 with 1 Axes>"
            ]
          },
          "metadata": {
            "tags": []
          }
        },
        {
          "output_type": "display_data",
          "data": {
            "image/png": "[encoded data removed]",
            "text/plain": [
              "<Figure size 108x108 with 1 Axes>"
            ]
          },
          "metadata": {
            "tags": []
          }
        },
        {
          "output_type": "display_data",
          "data": {
            "image/png": "[encoded data removed]",
            "text/plain": [
              "<Figure size 108x108 with 1 Axes>"
            ]
          },
          "metadata": {
            "tags": []
          }
        }
      ]
    },
    {
      "cell_type": "code",
      "metadata": {
        "id": "v0BlCxjC3PeJ",
        "colab": {
          "base_uri": "https://localhost:8080/",
          "height": 390
        },
        "outputId": "5bd00bbf-c59b-4199-af48-237111239834"
      },
      "source": [
        "Y_test_1D=Y_test.flatten()\n",
        "import pandas as pd\n",
        "pd.crosstab(Y_test_1D,prediction_1,colnames=['prediction'],rownames=['label'])"
      ],
      "execution_count": null,
      "outputs": [
        {
          "output_type": "execute_result",
          "data": {
            "text/html": [
              "<div>\n",
              "<style scoped>\n",
              "    .dataframe tbody tr th:only-of-type {\n",
              "        vertical-align: middle;\n",
              "    }\n",
              "\n",
              "    .dataframe tbody tr th {\n",
              "        vertical-align: top;\n",
              "    }\n",
              "\n",
              "    .dataframe thead th {\n",
              "        text-align: right;\n",
              "    }\n",
              "</style>\n",
              "<table border=\"1\" class=\"dataframe\">\n",
              "  <thead>\n",
              "    <tr style=\"text-align: right;\">\n",
              "      <th>prediction</th>\n",
              "      <th>0</th>\n",
              "      <th>1</th>\n",
              "      <th>2</th>\n",
              "      <th>3</th>\n",
              "      <th>4</th>\n",
              "      <th>5</th>\n",
              "      <th>6</th>\n",
              "      <th>7</th>\n",
              "      <th>8</th>\n",
              "      <th>9</th>\n",
              "    </tr>\n",
              "    <tr>\n",
              "      <th>label</th>\n",
              "      <th></th>\n",
              "      <th></th>\n",
              "      <th></th>\n",
              "      <th></th>\n",
              "      <th></th>\n",
              "      <th></th>\n",
              "      <th></th>\n",
              "      <th></th>\n",
              "      <th></th>\n",
              "      <th></th>\n",
              "    </tr>\n",
              "  </thead>\n",
              "  <tbody>\n",
              "    <tr>\n",
              "      <th>0</th>\n",
              "      <td>786</td>\n",
              "      <td>10</td>\n",
              "      <td>38</td>\n",
              "      <td>14</td>\n",
              "      <td>26</td>\n",
              "      <td>5</td>\n",
              "      <td>9</td>\n",
              "      <td>5</td>\n",
              "      <td>87</td>\n",
              "      <td>20</td>\n",
              "    </tr>\n",
              "    <tr>\n",
              "      <th>1</th>\n",
              "      <td>15</td>\n",
              "      <td>884</td>\n",
              "      <td>4</td>\n",
              "      <td>10</td>\n",
              "      <td>1</td>\n",
              "      <td>3</td>\n",
              "      <td>6</td>\n",
              "      <td>1</td>\n",
              "      <td>15</td>\n",
              "      <td>61</td>\n",
              "    </tr>\n",
              "    <tr>\n",
              "      <th>2</th>\n",
              "      <td>70</td>\n",
              "      <td>2</td>\n",
              "      <td>625</td>\n",
              "      <td>52</td>\n",
              "      <td>139</td>\n",
              "      <td>43</td>\n",
              "      <td>49</td>\n",
              "      <td>9</td>\n",
              "      <td>10</td>\n",
              "      <td>1</td>\n",
              "    </tr>\n",
              "    <tr>\n",
              "      <th>3</th>\n",
              "      <td>15</td>\n",
              "      <td>4</td>\n",
              "      <td>58</td>\n",
              "      <td>612</td>\n",
              "      <td>93</td>\n",
              "      <td>119</td>\n",
              "      <td>67</td>\n",
              "      <td>14</td>\n",
              "      <td>9</td>\n",
              "      <td>9</td>\n",
              "    </tr>\n",
              "    <tr>\n",
              "      <th>4</th>\n",
              "      <td>12</td>\n",
              "      <td>1</td>\n",
              "      <td>29</td>\n",
              "      <td>38</td>\n",
              "      <td>860</td>\n",
              "      <td>13</td>\n",
              "      <td>29</td>\n",
              "      <td>12</td>\n",
              "      <td>6</td>\n",
              "      <td>0</td>\n",
              "    </tr>\n",
              "    <tr>\n",
              "      <th>5</th>\n",
              "      <td>3</td>\n",
              "      <td>2</td>\n",
              "      <td>38</td>\n",
              "      <td>185</td>\n",
              "      <td>70</td>\n",
              "      <td>639</td>\n",
              "      <td>30</td>\n",
              "      <td>23</td>\n",
              "      <td>7</td>\n",
              "      <td>3</td>\n",
              "    </tr>\n",
              "    <tr>\n",
              "      <th>6</th>\n",
              "      <td>4</td>\n",
              "      <td>1</td>\n",
              "      <td>39</td>\n",
              "      <td>45</td>\n",
              "      <td>49</td>\n",
              "      <td>9</td>\n",
              "      <td>848</td>\n",
              "      <td>0</td>\n",
              "      <td>5</td>\n",
              "      <td>0</td>\n",
              "    </tr>\n",
              "    <tr>\n",
              "      <th>7</th>\n",
              "      <td>11</td>\n",
              "      <td>3</td>\n",
              "      <td>27</td>\n",
              "      <td>49</td>\n",
              "      <td>124</td>\n",
              "      <td>47</td>\n",
              "      <td>8</td>\n",
              "      <td>725</td>\n",
              "      <td>2</td>\n",
              "      <td>4</td>\n",
              "    </tr>\n",
              "    <tr>\n",
              "      <th>8</th>\n",
              "      <td>43</td>\n",
              "      <td>16</td>\n",
              "      <td>11</td>\n",
              "      <td>9</td>\n",
              "      <td>11</td>\n",
              "      <td>5</td>\n",
              "      <td>5</td>\n",
              "      <td>2</td>\n",
              "      <td>888</td>\n",
              "      <td>10</td>\n",
              "    </tr>\n",
              "    <tr>\n",
              "      <th>9</th>\n",
              "      <td>22</td>\n",
              "      <td>39</td>\n",
              "      <td>8</td>\n",
              "      <td>26</td>\n",
              "      <td>6</td>\n",
              "      <td>8</td>\n",
              "      <td>10</td>\n",
              "      <td>6</td>\n",
              "      <td>22</td>\n",
              "      <td>853</td>\n",
              "    </tr>\n",
              "  </tbody>\n",
              "</table>\n",
              "</div>"
            ],
            "text/plain": [
              "prediction    0    1    2    3    4    5    6    7    8    9\n",
              "label                                                       \n",
              "0           786   10   38   14   26    5    9    5   87   20\n",
              "1            15  884    4   10    1    3    6    1   15   61\n",
              "2            70    2  625   52  139   43   49    9   10    1\n",
              "3            15    4   58  612   93  119   67   14    9    9\n",
              "4            12    1   29   38  860   13   29   12    6    0\n",
              "5             3    2   38  185   70  639   30   23    7    3\n",
              "6             4    1   39   45   49    9  848    0    5    0\n",
              "7            11    3   27   49  124   47    8  725    2    4\n",
              "8            43   16   11    9   11    5    5    2  888   10\n",
              "9            22   39    8   26    6    8   10    6   22  853"
            ]
          },
          "metadata": {
            "tags": []
          },
          "execution_count": 10
        }
      ]
    },
    {
      "cell_type": "code",
      "metadata": {
        "id": "u0jdkkQbBbVj",
        "colab": {
          "base_uri": "https://localhost:8080/",
          "height": 142
        },
        "outputId": "1a66bc69-f439-4155-b1bc-b50ad5002d8c"
      },
      "source": [
        "df=pd.DataFrame({'label':Y_test_1D,'predict':prediction_1})\n",
        "df[:3]\n",
        "#前三張測試圖片的結果"
      ],
      "execution_count": null,
      "outputs": [
        {
          "output_type": "execute_result",
          "data": {
            "text/html": [
              "<div>\n",
              "<style scoped>\n",
              "    .dataframe tbody tr th:only-of-type {\n",
              "        vertical-align: middle;\n",
              "    }\n",
              "\n",
              "    .dataframe tbody tr th {\n",
              "        vertical-align: top;\n",
              "    }\n",
              "\n",
              "    .dataframe thead th {\n",
              "        text-align: right;\n",
              "    }\n",
              "</style>\n",
              "<table border=\"1\" class=\"dataframe\">\n",
              "  <thead>\n",
              "    <tr style=\"text-align: right;\">\n",
              "      <th></th>\n",
              "      <th>label</th>\n",
              "      <th>predict</th>\n",
              "    </tr>\n",
              "  </thead>\n",
              "  <tbody>\n",
              "    <tr>\n",
              "      <th>0</th>\n",
              "      <td>3</td>\n",
              "      <td>3</td>\n",
              "    </tr>\n",
              "    <tr>\n",
              "      <th>1</th>\n",
              "      <td>8</td>\n",
              "      <td>8</td>\n",
              "    </tr>\n",
              "    <tr>\n",
              "      <th>2</th>\n",
              "      <td>8</td>\n",
              "      <td>8</td>\n",
              "    </tr>\n",
              "  </tbody>\n",
              "</table>\n",
              "</div>"
            ],
            "text/plain": [
              "   label  predict\n",
              "0      3        3\n",
              "1      8        8\n",
              "2      8        8"
            ]
          },
          "metadata": {
            "tags": []
          },
          "execution_count": 11
        }
      ]
    },
    {
      "cell_type": "code",
      "metadata": {
        "id": "mppNM-t0BxwX",
        "colab": {
          "base_uri": "https://localhost:8080/",
          "height": 204
        },
        "outputId": "35cb3aed-9700-4f30-fd00-5d706013506c"
      },
      "source": [
        "df[(df.label==0)&(df.predict==5)]\n",
        "#標籤為飛機但卻猜是狗(最左邊的數字是圖片編號)\n",
        "#此語言可呼叫圖片(plt.imshow(x_test[左邊之圖片編號]))\n",
        "#論壇網址https://nodoubting.blogspot.com/2018/01/keras-cnncifar-10.html\n",
        "#測試比率為20%測試以及80%圖片留作訓練，為最佳比例\n",
        "#批量以128每次最為準確\n",
        "#曲線為些微過擬合\n",
        "#手動去計算precision以及recall"
      ],
      "execution_count": null,
      "outputs": [
        {
          "output_type": "execute_result",
          "data": {
            "text/html": [
              "<div>\n",
              "<style scoped>\n",
              "    .dataframe tbody tr th:only-of-type {\n",
              "        vertical-align: middle;\n",
              "    }\n",
              "\n",
              "    .dataframe tbody tr th {\n",
              "        vertical-align: top;\n",
              "    }\n",
              "\n",
              "    .dataframe thead th {\n",
              "        text-align: right;\n",
              "    }\n",
              "</style>\n",
              "<table border=\"1\" class=\"dataframe\">\n",
              "  <thead>\n",
              "    <tr style=\"text-align: right;\">\n",
              "      <th></th>\n",
              "      <th>label</th>\n",
              "      <th>predict</th>\n",
              "    </tr>\n",
              "  </thead>\n",
              "  <tbody>\n",
              "    <tr>\n",
              "      <th>1898</th>\n",
              "      <td>0</td>\n",
              "      <td>5</td>\n",
              "    </tr>\n",
              "    <tr>\n",
              "      <th>3620</th>\n",
              "      <td>0</td>\n",
              "      <td>5</td>\n",
              "    </tr>\n",
              "    <tr>\n",
              "      <th>4548</th>\n",
              "      <td>0</td>\n",
              "      <td>5</td>\n",
              "    </tr>\n",
              "    <tr>\n",
              "      <th>7609</th>\n",
              "      <td>0</td>\n",
              "      <td>5</td>\n",
              "    </tr>\n",
              "    <tr>\n",
              "      <th>7861</th>\n",
              "      <td>0</td>\n",
              "      <td>5</td>\n",
              "    </tr>\n",
              "  </tbody>\n",
              "</table>\n",
              "</div>"
            ],
            "text/plain": [
              "      label  predict\n",
              "1898      0        5\n",
              "3620      0        5\n",
              "4548      0        5\n",
              "7609      0        5\n",
              "7861      0        5"
            ]
          },
          "metadata": {
            "tags": []
          },
          "execution_count": 12
        }
      ]
    }
  ]
}